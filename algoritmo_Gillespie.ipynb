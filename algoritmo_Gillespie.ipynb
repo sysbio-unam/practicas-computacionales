{
  "nbformat": 4,
  "nbformat_minor": 0,
  "metadata": {
    "colab": {
      "name": "Untitled95.ipynb",
      "provenance": [],
      "authorship_tag": "ABX9TyOBSjWh+WsDmqdvmSRyPthI",
      "include_colab_link": true
    },
    "kernelspec": {
      "name": "python3",
      "display_name": "Python 3"
    },
    "language_info": {
      "name": "python"
    }
  },
  "cells": [
    {
      "cell_type": "markdown",
      "metadata": {
        "id": "view-in-github",
        "colab_type": "text"
      },
      "source": [
        "<a href=\"https://colab.research.google.com/github/sysbio-unam/practicas-computacionales/blob/main/algoritmo_Gillespie.ipynb\" target=\"_parent\"><img src=\"https://colab.research.google.com/assets/colab-badge.svg\" alt=\"Open In Colab\"/></a>"
      ]
    },
    {
      "cell_type": "markdown",
      "source": [
        "Título: Algoritmo de Gillespie\n",
        "\n",
        "Nombre: Biología de sistemas UNAM\n",
        "\n",
        "Fecha: diciembre 2021"
      ],
      "metadata": {
        "id": "B-PV6w28TVPr"
      }
    },
    {
      "cell_type": "code",
      "execution_count": 1,
      "metadata": {
        "id": "pNMXNPh4S_c6"
      },
      "outputs": [],
      "source": [
        "# importar librerías \n",
        "import numpy as np\n",
        "import matplotlib.pyplot as plt \n",
        "from scipy.integrate import odeint"
      ]
    },
    {
      "cell_type": "markdown",
      "source": [
        "## Descripción del proceso (en este caso, las reacciones): \n",
        "El sistema bioquímico de formación y degradación de la GFP a considerar en está dado por las reacciones representadas por:\n",
        "\n",
        "$$\n",
        "\\varnothing \\xrightarrow[]{k_1} \\text{GFP} \\xrightarrow[]{k_2}  \\varnothing \\tag{1}\n",
        "$$"
      ],
      "metadata": {
        "id": "KJqJhNqVTlRi"
      }
    },
    {
      "cell_type": "markdown",
      "source": [
        "# 1. Establecer modelo y obtener estado estacionario "
      ],
      "metadata": {
        "id": "Clte4IWsTnj0"
      }
    },
    {
      "cell_type": "markdown",
      "source": [
        "## Red para describir las reacciones en las que participa la GFP"
      ],
      "metadata": {
        "id": "9ATQrhPSTqCY"
      }
    },
    {
      "cell_type": "markdown",
      "source": [
        "![image.png](data:image/png;base64,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)"
      ],
      "metadata": {
        "id": "NAMpJJh_TsLd"
      }
    },
    {
      "cell_type": "markdown",
      "source": [
        "## Modelo matemático \n",
        "\n",
        "Realizando el balance de materia para la proteína GFP se tiene\n",
        "\n",
        "$$\n",
        "\\text{cambio de concentración de la GFP} = \\text{entrada de GFP} - \\text{degradación de GFP} \\tag{2}\n",
        "$$\n",
        "\n",
        "$$\n",
        "\\frac{dGFP}{dt} = k_1 s - k_2 GFP \\tag{3} \n",
        "$$"
      ],
      "metadata": {
        "id": "EIVv0gjGTvKp"
      }
    },
    {
      "cell_type": "markdown",
      "source": [
        "En (3) se supone que la producción de GFP se realiza a una velocidad constante. Por otro lado, la degradación de la GFP se establece proporcional a su concentración."
      ],
      "metadata": {
        "id": "Xvf6Jc3TTxaA"
      }
    },
    {
      "cell_type": "markdown",
      "source": [
        "Dado que el primer término en (3) es una constante se puede escribir como \n",
        "\n",
        "$$\n",
        "\\frac{dGFP}{dt} = p_1 - k_2 GFP \\tag{4}\n",
        "$$\n",
        "\n",
        "donde $p_1 = k_1 s$"
      ],
      "metadata": {
        "id": "5bvsZLPLTzsc"
      }
    },
    {
      "cell_type": "markdown",
      "source": [
        "## Análisis de estabilidad \n",
        "\n",
        "Igualando (4) a cero y despejando de obtiene el estado estacionario.\n",
        "\n",
        "$$\n",
        "\\frac{dGFP}{dt} = p_1 - k_2 GFP = 0 \\rightarrow GFP_{ss} = \\frac{p_1}{k_2}\n",
        "$$"
      ],
      "metadata": {
        "id": "ej9P6J_3T2Al"
      }
    },
    {
      "cell_type": "code",
      "source": [
        "# estado estacionario \n",
        "def estado_estacionario(p1, k2):\n",
        "    return p1 / k2"
      ],
      "metadata": {
        "id": "Ud_bEzP6Tizf"
      },
      "execution_count": 2,
      "outputs": []
    },
    {
      "cell_type": "code",
      "source": [
        "p1 = 1\n",
        "k2 = 1\n",
        "ss = estado_estacionario(p1, k2)\n",
        "print(ss)"
      ],
      "metadata": {
        "colab": {
          "base_uri": "https://localhost:8080/"
        },
        "id": "3Bt7UiwQUBKs",
        "outputId": "49bd5bc4-7832-467c-cc83-7b5b7ab51e85"
      },
      "execution_count": 4,
      "outputs": [
        {
          "output_type": "stream",
          "name": "stdout",
          "text": [
            "1.0\n"
          ]
        }
      ]
    },
    {
      "cell_type": "markdown",
      "source": [
        "# Algoritmo de Gillespie "
      ],
      "metadata": {
        "id": "sz7nzzs9URms"
      }
    },
    {
      "cell_type": "markdown",
      "source": [
        "Primero es necesario establecer una función que nos permita calcular las velocidades de reacción en cada instante \n"
      ],
      "metadata": {
        "id": "QV6stYCEUUG0"
      }
    },
    {
      "cell_type": "code",
      "source": [
        "# función para calcular las tasas de generación y degradación\n",
        "def tasas(GFP): \n",
        "    return [p1, k2*GFP]"
      ],
      "metadata": {
        "id": "_cUxCQJ8UFj7"
      },
      "execution_count": 5,
      "outputs": []
    },
    {
      "cell_type": "code",
      "source": [
        "# función para implementar el algoritmo \n",
        "def gillespieGFp(GFP0, rate_const, get_rates, tend):\n",
        "\n",
        "    tvec = np.zeros((1,)) # vector para guardar los tiempos en los que ocurren las rxs\n",
        "\n",
        "    GFPvec = np.zeros((1,)) # vector para guardar los valores de GFP en el tiempo\n",
        "\n",
        "    tvec[0] = 0 # tiempo inicial \n",
        "\n",
        "    GFPvec[0] = GFP0 # GFP inicial \n",
        "\n",
        "    return [tvec, GFPvec]\n",
        "\n",
        "    while tvec[-1] < tend): # mientras el último valor de tiempo sea menor a tend\n",
        "        current_GFP = GFPvec[-1] # valor actual de GFP\n",
        "        tasas = tasas(current_GFP) # calcular velocidades de reacción\n",
        "        suma_tasa = np.sum(tasas)\n",
        "\n",
        "        tau = rexp(1, rate_sum) # tomar el paso de tiempo de una función de distribución exponencial \n",
        "\n",
        "        tvec = c(tvec, tvec[length(tvec)] + tau) # nuevo tiempo en el que ocurre la rx\n",
        "\n",
        "        rx = sample(length(rates), 1, prob = rates) # seleccionar la rxs que ocurrirá con una probabilidad \n",
        "        # propoorcional a su velocidad \n",
        "\n",
        "        # actualizar valor de GFP\n",
        "        if (rx == 1) {\n",
        "            GFPvec = c(GFPvec, GFPvec[length(GFPvec)] + 1) # producción\n",
        "        }\n",
        "        else {\n",
        "            GFPvec = c(GFPvec, GFPvec[length(GFPvec)] - 1) # degradación\n",
        "        }\n",
        "    }\n",
        "    return(list(t = tvec, GFP = GFPvec))\n",
        "\n",
        "}"
      ],
      "metadata": {
        "colab": {
          "base_uri": "https://localhost:8080/"
        },
        "id": "kzt99cCrUrg-",
        "outputId": "4fe0e5af-22ca-4579-95e3-8fd45a128ab8"
      },
      "execution_count": 10,
      "outputs": [
        {
          "output_type": "execute_result",
          "data": {
            "text/plain": [
              "3"
            ]
          },
          "metadata": {},
          "execution_count": 10
        }
      ]
    },
    {
      "cell_type": "code",
      "source": [
        "gillespieGFp(0, 1, 1, 1)"
      ],
      "metadata": {
        "colab": {
          "base_uri": "https://localhost:8080/"
        },
        "id": "SqMGsyohVO6B",
        "outputId": "b0e33caf-04f4-448d-8028-fc19e56363ab"
      },
      "execution_count": 9,
      "outputs": [
        {
          "output_type": "execute_result",
          "data": {
            "text/plain": [
              "[array([0.]), array([0.])]"
            ]
          },
          "metadata": {},
          "execution_count": 9
        }
      ]
    },
    {
      "cell_type": "code",
      "source": [
        "x = np.random.exponential( )\n",
        "\n",
        "print(x)"
      ],
      "metadata": {
        "colab": {
          "base_uri": "https://localhost:8080/"
        },
        "id": "RJk4krIdWUKb",
        "outputId": "4e83211d-8fb4-4c69-c120-713063ca35b8"
      },
      "execution_count": 14,
      "outputs": [
        {
          "output_type": "stream",
          "name": "stdout",
          "text": [
            "1.3561799798601826\n"
          ]
        }
      ]
    },
    {
      "cell_type": "code",
      "source": [
        ""
      ],
      "metadata": {
        "id": "qfoaJCanWVGS"
      },
      "execution_count": null,
      "outputs": []
    }
  ]
}